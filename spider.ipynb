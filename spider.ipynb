{
 "cells": [
  {
   "cell_type": "code",
   "execution_count": 1,
   "metadata": {
    "pycharm": {
     "name": "#%%\n"
    }
   },
   "outputs": [
    {
     "name": "stdout",
     "output_type": "stream",
     "text": [
      "{\"user_id\":523588,\"login\":\"pml7sgn4r\",\"name\":\"贾云吉\",\"grade\":63192,\"identity\":\"student\",\"image_url\":\"avatars/User/b\",\"school\":\"太原学院\",\"user_url\":\"/users/pml7sgn4r\"}\n"
     ]
    }
   ],
   "source": [
    "import requests\n",
    "from bs4 import BeautifulSoup\n",
    "\n",
    "data = {\n",
    "  \"login\": \"13403505848\",\n",
    "  \"password\": \"8281818.\",\n",
    "  \"autologin\": 'ture'\n",
    "}\n",
    "\n",
    "headers = {'User-Agent': 'Mozilla/5.0 (Windows NT 6.1; WOW64) AppleWebKit/537.36'\n",
    "                                 ' (KHTML, like Gecko) Chrome/63.0.3239.132 Safari/537.36'}\n",
    "html1 = requests.post(url='https://data.educoder.net/api/accounts/login.json',data=data,headers = headers)\n",
    "# html2 = requests.get(url=                     )\n",
    "\n",
    "print(html1.text)"
   ]
  },
  {
   "cell_type": "code",
   "execution_count": 22,
   "metadata": {
    "pycharm": {
     "name": "#%%\n"
    }
   },
   "outputs": [
    {
     "name": "stdout",
     "output_type": "stream",
     "text": [
      "cookies is ok\n"
     ]
    }
   ],
   "source": [
    "import time\n",
    "import json\n",
    "from selenium import webdriver\n",
    "web = webdriver.Chrome()\n",
    "web.get('https://www.educoder.net/classrooms/J5A7CM4T/announcement/')\n",
    "web.delete_all_cookies()#先删除cookies\n",
    "time.sleep(10)#这个时间用于手动登录,扫码登录可以适当缩短这个等待时间\n",
    "dictcookies = web.get_cookies()#读取登录之后浏览器的cookies\n",
    "jsoncookies = json.dumps(dictcookies)#将字典数据转成json数据便于保存\n",
    "\n",
    "with open('cookiesss.txt','w') as f:#写进文本保存\n",
    "    f.write(jsoncookies)\n",
    "print('cookies is ok')"
   ]
  },
  {
   "cell_type": "code",
   "execution_count": 21,
   "metadata": {
    "pycharm": {
     "name": "#%%\n"
    }
   },
   "outputs": [
    {
     "ename": "IndexError",
     "evalue": "list index out of range",
     "output_type": "error",
     "traceback": [
      "\u001B[1;31m---------------------------------------------------------------------------\u001B[0m",
      "\u001B[1;31mIndexError\u001B[0m                                Traceback (most recent call last)",
      "Input \u001B[1;32mIn [21]\u001B[0m, in \u001B[0;36m<cell line: 38>\u001B[1;34m()\u001B[0m\n\u001B[0;32m     36\u001B[0m t \u001B[38;5;241m=\u001B[39m \u001B[38;5;124m'\u001B[39m\u001B[38;5;124m2022-08-31 14:11\u001B[39m\u001B[38;5;124m'\u001B[39m\n\u001B[0;32m     37\u001B[0m \u001B[38;5;66;03m# soup = str(soup)\u001B[39;00m\n\u001B[1;32m---> 38\u001B[0m m \u001B[38;5;241m=\u001B[39m re\u001B[38;5;241m.\u001B[39msplit(\u001B[38;5;124mr\u001B[39m\u001B[38;5;124m'\u001B[39m\u001B[38;5;124m(\u001B[39m\u001B[38;5;124m\\\u001B[39m\u001B[38;5;124md\u001B[39m\u001B[38;5;132;01m{4}\u001B[39;00m\u001B[38;5;124m)-(\u001B[39m\u001B[38;5;124m\\\u001B[39m\u001B[38;5;124md\u001B[39m\u001B[38;5;132;01m{2}\u001B[39;00m\u001B[38;5;124m)-(\u001B[39m\u001B[38;5;124m\\\u001B[39m\u001B[38;5;124md\u001B[39m\u001B[38;5;132;01m{2}\u001B[39;00m\u001B[38;5;124m) (\u001B[39m\u001B[38;5;124m\\\u001B[39m\u001B[38;5;124md\u001B[39m\u001B[38;5;132;01m{2}\u001B[39;00m\u001B[38;5;124m):(\u001B[39m\u001B[38;5;124m\\\u001B[39m\u001B[38;5;124md\u001B[39m\u001B[38;5;132;01m{2}\u001B[39;00m\u001B[38;5;124m)\u001B[39m\u001B[38;5;124m'\u001B[39m, \u001B[43msoup\u001B[49m\u001B[38;5;241;43m.\u001B[39;49m\u001B[43mfind_all\u001B[49m\u001B[43m(\u001B[49m\u001B[38;5;124;43m'\u001B[39;49m\u001B[38;5;124;43mspan\u001B[39;49m\u001B[38;5;124;43m'\u001B[39;49m\u001B[43m,\u001B[49m\u001B[43m \u001B[49m\u001B[43mclass_\u001B[49m\u001B[38;5;241;43m=\u001B[39;49m\u001B[38;5;124;43m'\u001B[39;49m\u001B[38;5;124;43mml20 c-grey-999\u001B[39;49m\u001B[38;5;124;43m'\u001B[39;49m\u001B[43m)\u001B[49m\u001B[43m[\u001B[49m\u001B[38;5;241;43m0\u001B[39;49m\u001B[43m]\u001B[49m\u001B[38;5;241m.\u001B[39mtext)\n\u001B[0;32m     39\u001B[0m \u001B[38;5;66;03m# print(m)\u001B[39;00m\n\u001B[0;32m     40\u001B[0m \u001B[38;5;28mprint\u001B[39m(m)\n",
      "\u001B[1;31mIndexError\u001B[0m: list index out of range"
     ]
    }
   ],
   "source": [
    "import time\n",
    "from bs4 import BeautifulSoup\n",
    "import lxml\n",
    "from selenium.webdriver.common.by import By\n",
    "web = webdriver.Chrome()\n",
    "# web = webdriver.PhantomJS()\n",
    "web.get('https://www.educoder.net/classrooms/J5A7CM4T/shixun_homework/')\n",
    "\n",
    "f = open('cookiesss.txt', 'r')\n",
    "listcookie = json.loads(f.read())  # 读取文件中的cookies数据\n",
    "\n",
    "for cookie in listcookie:\n",
    "    web.add_cookie(cookie)  # 将cookies数据添加到浏览器\n",
    "web.refresh()  # 刷新网页\n",
    "\n",
    "time.sleep(3)\n",
    "\n",
    "html = web.page_source\n",
    "\n",
    "soup = BeautifulSoup(html, 'lxml')\n",
    "# print(soup.find('head'))\n",
    "# print(soup.div.contents)\n",
    "# print(soup.find_all('span', class_='name___3IcSf')[0].text)\n",
    "# print(soup.find_all('span', class_='ml20 c-grey-999')[0].text)\n",
    "for i in range(len(soup.find_all('span', class_='ml20 c-grey-999'))):\n",
    "    print(soup.find_all('span', class_='name___3IcSf')[i].text)\n",
    "    print(soup.find_all('span', class_='ml20 c-grey-999')[i].text)\n",
    "\n",
    "# for i, child in enumerate(soup.div.children):\n",
    "#     print(i, child)\n",
    "\n",
    "# 时间的正则表达\n",
    "import re\n",
    "\n",
    "# 2022-08-31 14:11 至 2022-09-07 14:11\n",
    "t = '2022-08-31 14:11'\n",
    "# soup = str(soup)\n",
    "m = re.split(r'(\\d{4})-(\\d{2})-(\\d{2}) (\\d{2}):(\\d{2})', soup.find_all('span', class_='ml20 c-grey-999')[0].text)\n",
    "# print(m)\n",
    "print(m)\n",
    "name = []\n",
    "time = []\n",
    "# for i in soup.find_all('text'):\n",
    "#     print(i.text)\n"
   ]
  },
  {
   "cell_type": "code",
   "execution_count": 10,
   "outputs": [
    {
     "name": "stdout",
     "output_type": "stream",
     "text": [
      "2022-08-31 14:11\n"
     ]
    }
   ],
   "source": [
    "import re\n",
    "m = re.match(r'(.*):(.*):(.*)', soup.text)\n",
    "# 2022-08-31 14:11 至 2022-09-07 14:11\n",
    "t = '2022-08-31 14:11'\n",
    "m = re.match(r'(\\d{4})-(\\d{2})-(\\d{2}) (\\d{2}):(\\d{2})', t)\n",
    "print(m.group())"
   ],
   "metadata": {
    "collapsed": false,
    "pycharm": {
     "name": "#%%\n"
    }
   }
  }
 ],
 "metadata": {
  "kernelspec": {
   "display_name": "Python 3 (ipykernel)",
   "language": "python",
   "name": "python3"
  },
  "language_info": {
   "codemirror_mode": {
    "name": "ipython",
    "version": 3
   },
   "file_extension": ".py",
   "mimetype": "text/x-python",
   "name": "python",
   "nbconvert_exporter": "python",
   "pygments_lexer": "ipython3",
   "version": "3.8.13"
  }
 },
 "nbformat": 4,
 "nbformat_minor": 1
}